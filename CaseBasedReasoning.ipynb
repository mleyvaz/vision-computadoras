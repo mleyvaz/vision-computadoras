{
  "nbformat": 4,
  "nbformat_minor": 0,
  "metadata": {
    "colab": {
      "name": "CaseBasedReasoning",
      "provenance": [],
      "authorship_tag": "ABX9TyOE3EHOSNlvuaJVAl6XUW+j",
      "include_colab_link": true
    },
    "kernelspec": {
      "name": "python3",
      "display_name": "Python 3"
    },
    "language_info": {
      "name": "python"
    }
  },
  "cells": [
    {
      "cell_type": "markdown",
      "metadata": {
        "id": "view-in-github",
        "colab_type": "text"
      },
      "source": [
        "<a href=\"https://colab.research.google.com/github/mleyvaz/vision-computadoras/blob/main/CaseBasedReasoning.ipynb\" target=\"_parent\"><img src=\"https://colab.research.google.com/assets/colab-badge.svg\" alt=\"Open In Colab\"/></a>"
      ]
    },
    {
      "cell_type": "code",
      "metadata": {
        "id": "sAFofQ44RPQw"
      },
      "source": [
        "pip install imagehash"
      ],
      "execution_count": null,
      "outputs": []
    },
    {
      "cell_type": "code",
      "metadata": {
        "id": "Ym8lR1rDQysl"
      },
      "source": [
        "\n",
        "#Librerias \n",
        "import numpy as np\n",
        "import pandas as pd\n",
        "import cv2  \n",
        "from google.colab.patches import cv2_imshow # for image display\n",
        "from skimage import io\n",
        "from PIL import Image \n",
        "import matplotlib.pylab as plt\n",
        "import imagehash"
      ],
      "execution_count": null,
      "outputs": []
    },
    {
      "cell_type": "code",
      "metadata": {
        "id": "qCj9MmWhQoQy"
      },
      "source": [
        "images = ['https://i.ebayimg.com/images/g/vOUAAOSwVHle64yO/s-l1600.jpg',\n",
        "         'https://i.ebayimg.com/images/g/jN8AAOSwxMle64yY/s-l1600.jpg',\n",
        "         'https://i.ebayimg.com/images/g/3p8AAOSwk2Je64ym/s-l1600.jpg',\n",
        "         'https://i.ebayimg.com/images/g/qqYAAOSweNle64zN/s-l1600.jpg',\n",
        "         'https://i.ebayimg.com/images/g/cnkAAOSw~n9e64za/s-l1600.jpg',\n",
        "         'https://i.ebayimg.com/images/g/3p8AAOSwk2Je64ym/s-l64.jpg',\n",
        "         'https://i.ebayimg.com/images/g/qqYAAOSweNle64zN/s-l64.jpg']"
      ],
      "execution_count": null,
      "outputs": []
    },
    {
      "cell_type": "code",
      "metadata": {
        "id": "NCjk5J_-Qvbc"
      },
      "source": [
        "df = pd.DataFrame(columns=['image','ahash','phash','dhash','whash','colorhash'])\n",
        "\n",
        "for url in images:\n",
        "    file =  Image.fromarray(io.imread(url))\n",
        "    data = {\n",
        "        'image': url,\n",
        "        'ahash': imagehash.average_hash(file),\n",
        "        'phash': imagehash.phash(file),\n",
        "        'dhash': imagehash.dhash(file),\n",
        "        'whash': imagehash.whash(file),\n",
        "        'colorhash': imagehash.colorhash(file),   \n",
        "    }\n",
        "    \n",
        "    df = df.append(data, ignore_index=True)"
      ],
      "execution_count": null,
      "outputs": []
    },
    {
      "cell_type": "code",
      "metadata": {
        "id": "LpeUKGX4SH9F"
      },
      "source": [
        "df.head(10)"
      ],
      "execution_count": null,
      "outputs": []
    },
    {
      "cell_type": "code",
      "metadata": {
        "id": "uT7M8AVvdDwx"
      },
      "source": [
        "pip install  distance"
      ],
      "execution_count": null,
      "outputs": []
    },
    {
      "cell_type": "code",
      "metadata": {
        "id": "7MkIolx1WLwH"
      },
      "source": [
        "import distance\n",
        "\n",
        "def find_similar_images(df, ahash_column, image_url):\n",
        "    \"\"\"Compare an unseen image to previously seen images and return\n",
        "    a list of images ranked by their similarity according to the \n",
        "    Hamming distance of their average hash or ahash.\n",
        "    \n",
        "    :param df: Pandas dataframe containing image and ahash columns\n",
        "    :param ahash_column: Name of ahash column\n",
        "    :param image_url: URL of the unseen image to hash and compare\n",
        "   \n",
        "    :return\n",
        "        Pandas dataframe containing the most similar images\n",
        "    \"\"\"\n",
        "    \n",
        "    file =  Image.fromarray(io.imread(url))\n",
        "    ahash = str(imagehash.average_hash(file))\n",
        "        \n",
        "    df['hamming_distance'] = df.apply(\\\n",
        "    lambda x: distance.hamming(str(x[ahash_column]), ahash), axis=1)\n",
        "\n",
        "    df = df[['image','ahash','hamming_distance']]\\\n",
        "    .sort_values(by='hamming_distance', ascending=True)\n",
        "    \n",
        "    return df"
      ],
      "execution_count": null,
      "outputs": []
    },
    {
      "cell_type": "code",
      "metadata": {
        "id": "8Ma8eXXUWMiv"
      },
      "source": [
        "df = find_similar_images(df, 'ahash', 'https://i.ebayimg.com/images/g/3p8AAOSwk2Je64ym/s-l1600.jpg')\n",
        "df.head()"
      ],
      "execution_count": null,
      "outputs": []
    },
    {
      "cell_type": "code",
      "metadata": {
        "id": "Zr7_LDMsdf4d"
      },
      "source": [
        "# Ejercicio muestre la imagen m'as similar de un dataset\n",
        "img =  io.imread('https://i.ebayimg.com/images/g/3p8AAOSwk2Je64ym/s-l1600.jpg')\n",
        "cv2_imshow(img)\n"
      ],
      "execution_count": null,
      "outputs": []
    }
  ]
}