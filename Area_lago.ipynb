{
  "nbformat": 4,
  "nbformat_minor": 0,
  "metadata": {
    "colab": {
      "name": "Area-lago",
      "provenance": [],
      "authorship_tag": "ABX9TyNr5EC4lG8ueZdiFoW1/Vjq",
      "include_colab_link": true
    },
    "kernelspec": {
      "name": "python3",
      "display_name": "Python 3"
    }
  },
  "cells": [
    {
      "cell_type": "markdown",
      "metadata": {
        "id": "view-in-github",
        "colab_type": "text"
      },
      "source": [
        "<a href=\"https://colab.research.google.com/github/mleyvaz/vision-computadoras/blob/main/Area_lago.ipynb\" target=\"_parent\"><img src=\"https://colab.research.google.com/assets/colab-badge.svg\" alt=\"Open In Colab\"/></a>"
      ]
    },
    {
      "cell_type": "markdown",
      "metadata": {
        "id": "wbtgssOeK-6x"
      },
      "source": [
        "# Área Lago"
      ]
    },
    {
      "cell_type": "markdown",
      "metadata": {
        "id": "INL5TOiiQiOp"
      },
      "source": [
        "Segmentacion "
      ]
    },
    {
      "cell_type": "code",
      "metadata": {
        "id": "S7LoJhs4T06s"
      },
      "source": [
        "#Librerias \r\n",
        "import numpy as np\r\n",
        "import pandas as pd\r\n",
        "import cv2  \r\n",
        "from google.colab.patches import cv2_imshow # for image display\r\n",
        "from skimage import io\r\n",
        "from PIL import Image \r\n",
        "import matplotlib.pylab as plt"
      ],
      "execution_count": 2,
      "outputs": []
    },
    {
      "cell_type": "markdown",
      "metadata": {
        "id": "PjGSzH9iQzlk"
      },
      "source": [
        " plot an image in 3D space using python matplotlib library."
      ]
    },
    {
      "cell_type": "code",
      "metadata": {
        "id": "yS9NDMDaQj0a",
        "outputId": "d8259a87-f265-4fca-e68a-db9ec637765c",
        "colab": {
          "base_uri": "https://localhost:8080/",
          "height": 231
        }
      },
      "source": [
        "import matplotlib.pyplot as plt\r\n",
        "from mpl_toolkits.mplot3d import Axes3D\r\n",
        "img =  io.imread('https://blogtoppy777.files.wordpress.com/2008/04/3victoriaa.jpg')\r\n",
        "img = cv2.cvtColor(img, cv2.COLOR_BGR2RGB)\r\n",
        "r, g, b = cv2.split(img)\r\n",
        "r = r.flatten()\r\n",
        "g = g.flatten()\r\n",
        "b = b.flatten()#plotting \r\n",
        "fig = plt.figure()\r\n",
        "ax = Axes3D(fig)\r\n",
        "ax.scatter(r, g, b)\r\n",
        "plt.show()\r\n",
        "cv2_imshow(img)"
      ],
      "execution_count": 1,
      "outputs": [
        {
          "output_type": "error",
          "ename": "NameError",
          "evalue": "ignored",
          "traceback": [
            "\u001b[0;31m---------------------------------------------------------------------------\u001b[0m",
            "\u001b[0;31mNameError\u001b[0m                                 Traceback (most recent call last)",
            "\u001b[0;32m<ipython-input-1-b3f78c50d1c3>\u001b[0m in \u001b[0;36m<module>\u001b[0;34m()\u001b[0m\n\u001b[1;32m      1\u001b[0m \u001b[0;32mimport\u001b[0m \u001b[0mmatplotlib\u001b[0m\u001b[0;34m.\u001b[0m\u001b[0mpyplot\u001b[0m \u001b[0;32mas\u001b[0m \u001b[0mplt\u001b[0m\u001b[0;34m\u001b[0m\u001b[0;34m\u001b[0m\u001b[0m\n\u001b[1;32m      2\u001b[0m \u001b[0;32mfrom\u001b[0m \u001b[0mmpl_toolkits\u001b[0m\u001b[0;34m.\u001b[0m\u001b[0mmplot3d\u001b[0m \u001b[0;32mimport\u001b[0m \u001b[0mAxes3D\u001b[0m\u001b[0;34m\u001b[0m\u001b[0;34m\u001b[0m\u001b[0m\n\u001b[0;32m----> 3\u001b[0;31m \u001b[0mimg\u001b[0m \u001b[0;34m=\u001b[0m  \u001b[0mio\u001b[0m\u001b[0;34m.\u001b[0m\u001b[0mimread\u001b[0m\u001b[0;34m(\u001b[0m\u001b[0;34m'https://blogtoppy777.files.wordpress.com/2008/04/3victoriaa.jpg'\u001b[0m\u001b[0;34m)\u001b[0m\u001b[0;34m\u001b[0m\u001b[0;34m\u001b[0m\u001b[0m\n\u001b[0m\u001b[1;32m      4\u001b[0m \u001b[0mimg\u001b[0m \u001b[0;34m=\u001b[0m \u001b[0mcv2\u001b[0m\u001b[0;34m.\u001b[0m\u001b[0mcvtColor\u001b[0m\u001b[0;34m(\u001b[0m\u001b[0mimg\u001b[0m\u001b[0;34m,\u001b[0m \u001b[0mcv2\u001b[0m\u001b[0;34m.\u001b[0m\u001b[0mCOLOR_BGR2RGB\u001b[0m\u001b[0;34m)\u001b[0m\u001b[0;34m\u001b[0m\u001b[0;34m\u001b[0m\u001b[0m\n\u001b[1;32m      5\u001b[0m \u001b[0mr\u001b[0m\u001b[0;34m,\u001b[0m \u001b[0mg\u001b[0m\u001b[0;34m,\u001b[0m \u001b[0mb\u001b[0m \u001b[0;34m=\u001b[0m \u001b[0mcv2\u001b[0m\u001b[0;34m.\u001b[0m\u001b[0msplit\u001b[0m\u001b[0;34m(\u001b[0m\u001b[0mimg\u001b[0m\u001b[0;34m)\u001b[0m\u001b[0;34m\u001b[0m\u001b[0;34m\u001b[0m\u001b[0m\n",
            "\u001b[0;31mNameError\u001b[0m: name 'io' is not defined"
          ]
        }
      ]
    },
    {
      "cell_type": "code",
      "metadata": {
        "id": "SBzzPngBQ_TX"
      },
      "source": [
        "\r\n",
        "img=cv2.cvtColor(img,cv2.COLOR_BGR2RGB)\r\n",
        "vectorized = img.reshape((-1,3))\r\n",
        "vectorized = np.float32(vectorized)\r\n",
        "criteria = (cv2.TERM_CRITERIA_EPS + cv2.TERM_CRITERIA_MAX_ITER, 10, 1.0)\r\n",
        "K = 3\r\n",
        "attempts=10\r\n",
        "ret,label,center=cv2.kmeans(vectorized,K,None,criteria,attempts,cv2.KMEANS_PP_CENTERS)\r\n",
        "center = np.uint8(center)\r\n",
        "res = center[label.flatten()]\r\n",
        "result_image = res.reshape((img.shape))\r\n",
        "\r\n",
        "cv2_imshow(result_image)"
      ],
      "execution_count": null,
      "outputs": []
    },
    {
      "cell_type": "code",
      "metadata": {
        "id": "2eCJ3UEJoN7W"
      },
      "source": [
        "I =  io.imread('https://upload.wikimedia.org/wikipedia/commons/thumb/d/dc/Lake_Victoria_composite_satellite_photo.jpg/300px-Lake_Victoria_composite_satellite_photo.jpg')\r\n",
        "cv2_imshow(I)\r\n",
        "from sklearn.cluster import KMeans\r\n",
        "\r\n",
        "I2 = np.asarray(I,dtype=np.float)\r\n",
        "\r\n",
        "X = I2.reshape((-1, 1))\r\n",
        "k_means = KMeans(n_clusters=3)\r\n",
        "k_means.fit(vectorized)"
      ],
      "execution_count": null,
      "outputs": []
    },
    {
      "cell_type": "code",
      "metadata": {
        "id": "fcDJ5hqQpWJK"
      },
      "source": [
        "centroides = k_means.cluster_centers_\r\n",
        "etiquetas = k_means.labels_\r\n",
        "print(etiquetas, centroides)"
      ],
      "execution_count": null,
      "outputs": []
    },
    {
      "cell_type": "code",
      "metadata": {
        "id": "WzEja3X_ptlq"
      },
      "source": [
        "I2 = (I2_compressed-np.min(I2_compressed))/(np.max(I2_compressed)-np.min(I2_compressed))*255\r\n",
        "I2 = Image.fromarray(I2.astype(np.uint8))\r\n",
        "w, h =I2.size\r\n",
        "colors = I2.getcolors(w * h)\r\n",
        "print (colors)"
      ],
      "execution_count": null,
      "outputs": []
    },
    {
      "cell_type": "code",
      "metadata": {
        "id": "G6mGSrr0r1nd"
      },
      "source": [
        "print (u'Área = ',  float(258538)*float(colors[0][0])/float(w*h), 'km2')"
      ],
      "execution_count": null,
      "outputs": []
    },
    {
      "cell_type": "code",
      "metadata": {
        "id": "iVSq5byNLFsZ"
      },
      "source": [
        ""
      ],
      "execution_count": null,
      "outputs": []
    }
  ]
}