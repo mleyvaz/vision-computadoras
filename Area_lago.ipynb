{
  "nbformat": 4,
  "nbformat_minor": 0,
  "metadata": {
    "colab": {
      "name": "Area-lago",
      "provenance": [],
      "authorship_tag": "ABX9TyMwEv6I3OBHFlM35i7/qONO",
      "include_colab_link": true
    },
    "kernelspec": {
      "name": "python3",
      "display_name": "Python 3"
    }
  },
  "cells": [
    {
      "cell_type": "markdown",
      "metadata": {
        "id": "view-in-github",
        "colab_type": "text"
      },
      "source": [
        "<a href=\"https://colab.research.google.com/github/mleyvaz/vision-computadoras/blob/main/Area_lago.ipynb\" target=\"_parent\"><img src=\"https://colab.research.google.com/assets/colab-badge.svg\" alt=\"Open In Colab\"/></a>"
      ]
    },
    {
      "cell_type": "markdown",
      "metadata": {
        "id": "wbtgssOeK-6x"
      },
      "source": [
        "# Área Lago"
      ]
    },
    {
      "cell_type": "markdown",
      "metadata": {
        "id": "INL5TOiiQiOp"
      },
      "source": [
        "Segmentacion "
      ]
    },
    {
      "cell_type": "markdown",
      "metadata": {
        "id": "PjGSzH9iQzlk"
      },
      "source": [
        " plot an image in 3D space using python matplotlib library."
      ]
    },
    {
      "cell_type": "code",
      "metadata": {
        "id": "yS9NDMDaQj0a"
      },
      "source": [
        "import matplotlib.pyplot as plt\r\n",
        "from mpl_toolkits.mplot3d import Axes3D\r\n",
        "img =  io.imread('https://blogtoppy777.files.wordpress.com/2008/04/3victoriaa.jpg')\r\n",
        "img = cv2.cvtColor(img, cv2.COLOR_BGR2RGB)\r\n",
        "r, g, b = cv2.split(img)\r\n",
        "r = r.flatten()\r\n",
        "g = g.flatten()\r\n",
        "b = b.flatten()#plotting \r\n",
        "fig = plt.figure()\r\n",
        "ax = Axes3D(fig)\r\n",
        "ax.scatter(r, g, b)\r\n",
        "plt.show()\r\n",
        "cv2_imshow(img)"
      ],
      "execution_count": null,
      "outputs": []
    },
    {
      "cell_type": "code",
      "metadata": {
        "id": "SBzzPngBQ_TX"
      },
      "source": [
        "\r\n",
        "img=cv2.cvtColor(img,cv2.COLOR_BGR2RGB)\r\n",
        "vectorized = img.reshape((-1,3))\r\n",
        "vectorized = np.float32(vectorized)\r\n",
        "criteria = (cv2.TERM_CRITERIA_EPS + cv2.TERM_CRITERIA_MAX_ITER, 10, 1.0)\r\n",
        "K = 3\r\n",
        "attempts=10\r\n",
        "ret,label,center=cv2.kmeans(vectorized,K,None,criteria,attempts,cv2.KMEANS_PP_CENTERS)\r\n",
        "center = np.uint8(center)\r\n",
        "res = center[label.flatten()]\r\n",
        "result_image = res.reshape((img.shape))\r\n",
        "\r\n",
        "cv2_imshow(result_image)"
      ],
      "execution_count": null,
      "outputs": []
    },
    {
      "cell_type": "code",
      "metadata": {
        "id": "2eCJ3UEJoN7W"
      },
      "source": [
        "I =  io.imread('https://upload.wikimedia.org/wikipedia/commons/thumb/d/dc/Lake_Victoria_composite_satellite_photo.jpg/300px-Lake_Victoria_composite_satellite_photo.jpg')\r\n",
        "cv2_imshow(I)\r\n",
        "from sklearn.cluster import KMeans\r\n",
        "\r\n",
        "I2 = np.asarray(I,dtype=np.float)\r\n",
        "\r\n",
        "X = I2.reshape((-1, 1))\r\n",
        "k_means = KMeans(n_clusters=3)\r\n",
        "k_means.fit(vectorized)"
      ],
      "execution_count": null,
      "outputs": []
    },
    {
      "cell_type": "code",
      "metadata": {
        "id": "fcDJ5hqQpWJK"
      },
      "source": [
        "centroides = k_means.cluster_centers_\r\n",
        "etiquetas = k_means.labels_\r\n",
        "print(etiquetas, centroides)"
      ],
      "execution_count": null,
      "outputs": []
    },
    {
      "cell_type": "code",
      "metadata": {
        "id": "WzEja3X_ptlq"
      },
      "source": [
        "I2 = (I2_compressed-np.min(I2_compressed))/(np.max(I2_compressed)-np.min(I2_compressed))*255\r\n",
        "I2 = Image.fromarray(I2.astype(np.uint8))\r\n",
        "w, h =I2.size\r\n",
        "colors = I2.getcolors(w * h)\r\n",
        "print (colors)"
      ],
      "execution_count": null,
      "outputs": []
    },
    {
      "cell_type": "code",
      "metadata": {
        "id": "G6mGSrr0r1nd"
      },
      "source": [
        "print (u'Área = ',  float(258538)*float(colors[0][0])/float(w*h), 'km2')"
      ],
      "execution_count": null,
      "outputs": []
    },
    {
      "cell_type": "code",
      "metadata": {
        "id": "iVSq5byNLFsZ"
      },
      "source": [
        ""
      ],
      "execution_count": null,
      "outputs": []
    }
  ]
}