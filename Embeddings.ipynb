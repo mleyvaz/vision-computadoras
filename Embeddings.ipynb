{
  "nbformat": 4,
  "nbformat_minor": 0,
  "metadata": {
    "colab": {
      "name": "Embeddings.ipynb",
      "provenance": [],
      "authorship_tag": "ABX9TyNMQGpcFzH87D+vTqdlLgV2",
      "include_colab_link": true
    },
    "kernelspec": {
      "name": "python3",
      "display_name": "Python 3"
    }
  },
  "cells": [
    {
      "cell_type": "markdown",
      "metadata": {
        "id": "view-in-github",
        "colab_type": "text"
      },
      "source": [
        "<a href=\"https://colab.research.google.com/github/mleyvaz/vision-computadoras/blob/main/Embeddings.ipynb\" target=\"_parent\"><img src=\"https://colab.research.google.com/assets/colab-badge.svg\" alt=\"Open In Colab\"/></a>"
      ]
    },
    {
      "cell_type": "markdown",
      "metadata": {
        "id": "tZA5_sqMjkis"
      },
      "source": [
        "\r\n",
        "Técnicas embedding para clasificación de imágenes"
      ]
    },
    {
      "cell_type": "markdown",
      "metadata": {
        "id": "KpkVMJa0jSAL"
      },
      "source": [
        "Los modelos de aprendizaje profundo se utilizan para calcular un vector de características para cada imagen. Devuelve una tabla de datos mejorada con columnas adicionales (descriptores de imagen)."
      ]
    },
    {
      "cell_type": "code",
      "metadata": {
        "id": "geq9Kz_nhr9M"
      },
      "source": [
        "!pip install -U image_embeddings # don't run this line if running this directly in the repo"
      ],
      "execution_count": null,
      "outputs": []
    },
    {
      "cell_type": "code",
      "metadata": {
        "id": "zYPZvDxphvKs"
      },
      "source": [
        "import image_embeddings"
      ],
      "execution_count": null,
      "outputs": []
    },
    {
      "cell_type": "code",
      "metadata": {
        "id": "Fjkr_JIphVAU"
      },
      "source": [
        "# Let's define some paths where to save images, tfrecords and embeddings\r\n",
        "from pathlib import Path\r\n",
        "home = str(Path.home())\r\n",
        "dataset = \"tf_flowers\"\r\n",
        "path_images = f\"{home}/{dataset}/images\"\r\n",
        "path_tfrecords = f\"{home}/{dataset}/tfrecords\"\r\n",
        "path_embeddings = f\"{home}/{dataset}/embeddings\""
      ],
      "execution_count": null,
      "outputs": []
    },
    {
      "cell_type": "code",
      "metadata": {
        "id": "NIhp9lsIhG9y"
      },
      "source": [
        "image_embeddings.downloader.save_examples_to_folder(output_folder=path_images, images_count=1000, dataset=dataset)\r\n",
        "image_embeddings.inference.write_tfrecord(image_folder=path_images,\r\n",
        "                                          output_folder=path_tfrecords,\r\n",
        "                                          num_shards=10)"
      ],
      "execution_count": null,
      "outputs": []
    },
    {
      "cell_type": "code",
      "metadata": {
        "id": "s070YBPgh2n0"
      },
      "source": [
        "image_embeddings.inference.write_tfrecord(image_folder=path_images,\r\n",
        "                                          output_folder=path_tfrecords,\r\n",
        "                                          num_shards=10)"
      ],
      "execution_count": null,
      "outputs": []
    },
    {
      "cell_type": "code",
      "metadata": {
        "id": "zID3_CnhiOvn"
      },
      "source": [
        "image_embeddings.inference.run_inference(tfrecords_folder=path_tfrecords,\r\n",
        "                                         output_folder=path_embeddings,\r\n",
        "                                         batch_size=1000)"
      ],
      "execution_count": null,
      "outputs": []
    },
    {
      "cell_type": "code",
      "metadata": {
        "id": "VDFTjxzXiIiz"
      },
      "source": [
        "[id_to_name, name_to_id, embeddings] = image_embeddings.knn.read_embeddings(path_embeddings)\r\n",
        "index = image_embeddings.knn.build_index(embeddings)"
      ],
      "execution_count": null,
      "outputs": []
    },
    {
      "cell_type": "markdown",
      "metadata": {
        "id": "9X3-gaWTif-_"
      },
      "source": [
        "Buscar las más cercana"
      ]
    },
    {
      "cell_type": "code",
      "metadata": {
        "id": "vLEpADEQieZU"
      },
      "source": [
        "p=220\r\n",
        "print(id_to_name[p])\r\n",
        "image_embeddings.knn.display_picture(path_images, id_to_name[p])\r\n",
        "results = image_embeddings.knn.search(index, id_to_name, embeddings[p])\r\n",
        "image_embeddings.knn.display_results(path_images, results)"
      ],
      "execution_count": null,
      "outputs": []
    }
  ]
}