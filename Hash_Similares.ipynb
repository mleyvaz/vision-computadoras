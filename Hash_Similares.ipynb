{
  "nbformat": 4,
  "nbformat_minor": 0,
  "metadata": {
    "colab": {
      "name": "Hash Similares.ipynb",
      "provenance": [],
      "authorship_tag": "ABX9TyMUQBrm8dPjY4E4j/7oIutR",
      "include_colab_link": true
    },
    "kernelspec": {
      "name": "python3",
      "display_name": "Python 3"
    },
    "language_info": {
      "name": "python"
    }
  },
  "cells": [
    {
      "cell_type": "markdown",
      "metadata": {
        "id": "view-in-github",
        "colab_type": "text"
      },
      "source": [
        "<a href=\"https://colab.research.google.com/github/mleyvaz/vision-computadoras/blob/main/Hash_Similares.ipynb\" target=\"_parent\"><img src=\"https://colab.research.google.com/assets/colab-badge.svg\" alt=\"Open In Colab\"/></a>"
      ]
    },
    {
      "cell_type": "code",
      "metadata": {
        "colab": {
          "base_uri": "https://localhost:8080/"
        },
        "id": "sAFofQ44RPQw",
        "outputId": "3b0eb008-ba52-4147-fa0a-1bd00671f1e8"
      },
      "source": [
        "pip install imagehash"
      ],
      "execution_count": 13,
      "outputs": [
        {
          "output_type": "stream",
          "text": [
            "Collecting imagehash\n",
            "  Downloading ImageHash-4.2.1.tar.gz (812 kB)\n",
            "\u001b[?25l\r\u001b[K     |▍                               | 10 kB 20.1 MB/s eta 0:00:01\r\u001b[K     |▉                               | 20 kB 25.3 MB/s eta 0:00:01\r\u001b[K     |█▏                              | 30 kB 12.1 MB/s eta 0:00:01\r\u001b[K     |█▋                              | 40 kB 9.3 MB/s eta 0:00:01\r\u001b[K     |██                              | 51 kB 5.0 MB/s eta 0:00:01\r\u001b[K     |██▍                             | 61 kB 5.5 MB/s eta 0:00:01\r\u001b[K     |██▉                             | 71 kB 5.4 MB/s eta 0:00:01\r\u001b[K     |███▎                            | 81 kB 6.1 MB/s eta 0:00:01\r\u001b[K     |███▋                            | 92 kB 4.6 MB/s eta 0:00:01\r\u001b[K     |████                            | 102 kB 4.9 MB/s eta 0:00:01\r\u001b[K     |████▍                           | 112 kB 4.9 MB/s eta 0:00:01\r\u001b[K     |████▉                           | 122 kB 4.9 MB/s eta 0:00:01\r\u001b[K     |█████▎                          | 133 kB 4.9 MB/s eta 0:00:01\r\u001b[K     |█████▋                          | 143 kB 4.9 MB/s eta 0:00:01\r\u001b[K     |██████                          | 153 kB 4.9 MB/s eta 0:00:01\r\u001b[K     |██████▌                         | 163 kB 4.9 MB/s eta 0:00:01\r\u001b[K     |██████▉                         | 174 kB 4.9 MB/s eta 0:00:01\r\u001b[K     |███████▎                        | 184 kB 4.9 MB/s eta 0:00:01\r\u001b[K     |███████▋                        | 194 kB 4.9 MB/s eta 0:00:01\r\u001b[K     |████████                        | 204 kB 4.9 MB/s eta 0:00:01\r\u001b[K     |████████▌                       | 215 kB 4.9 MB/s eta 0:00:01\r\u001b[K     |████████▉                       | 225 kB 4.9 MB/s eta 0:00:01\r\u001b[K     |█████████▎                      | 235 kB 4.9 MB/s eta 0:00:01\r\u001b[K     |█████████▊                      | 245 kB 4.9 MB/s eta 0:00:01\r\u001b[K     |██████████                      | 256 kB 4.9 MB/s eta 0:00:01\r\u001b[K     |██████████▌                     | 266 kB 4.9 MB/s eta 0:00:01\r\u001b[K     |██████████▉                     | 276 kB 4.9 MB/s eta 0:00:01\r\u001b[K     |███████████▎                    | 286 kB 4.9 MB/s eta 0:00:01\r\u001b[K     |███████████▊                    | 296 kB 4.9 MB/s eta 0:00:01\r\u001b[K     |████████████                    | 307 kB 4.9 MB/s eta 0:00:01\r\u001b[K     |████████████▌                   | 317 kB 4.9 MB/s eta 0:00:01\r\u001b[K     |█████████████                   | 327 kB 4.9 MB/s eta 0:00:01\r\u001b[K     |█████████████▎                  | 337 kB 4.9 MB/s eta 0:00:01\r\u001b[K     |█████████████▊                  | 348 kB 4.9 MB/s eta 0:00:01\r\u001b[K     |██████████████▏                 | 358 kB 4.9 MB/s eta 0:00:01\r\u001b[K     |██████████████▌                 | 368 kB 4.9 MB/s eta 0:00:01\r\u001b[K     |███████████████                 | 378 kB 4.9 MB/s eta 0:00:01\r\u001b[K     |███████████████▎                | 389 kB 4.9 MB/s eta 0:00:01\r\u001b[K     |███████████████▊                | 399 kB 4.9 MB/s eta 0:00:01\r\u001b[K     |████████████████▏               | 409 kB 4.9 MB/s eta 0:00:01\r\u001b[K     |████████████████▌               | 419 kB 4.9 MB/s eta 0:00:01\r\u001b[K     |█████████████████               | 430 kB 4.9 MB/s eta 0:00:01\r\u001b[K     |█████████████████▍              | 440 kB 4.9 MB/s eta 0:00:01\r\u001b[K     |█████████████████▊              | 450 kB 4.9 MB/s eta 0:00:01\r\u001b[K     |██████████████████▏             | 460 kB 4.9 MB/s eta 0:00:01\r\u001b[K     |██████████████████▌             | 471 kB 4.9 MB/s eta 0:00:01\r\u001b[K     |███████████████████             | 481 kB 4.9 MB/s eta 0:00:01\r\u001b[K     |███████████████████▍            | 491 kB 4.9 MB/s eta 0:00:01\r\u001b[K     |███████████████████▊            | 501 kB 4.9 MB/s eta 0:00:01\r\u001b[K     |████████████████████▏           | 512 kB 4.9 MB/s eta 0:00:01\r\u001b[K     |████████████████████▋           | 522 kB 4.9 MB/s eta 0:00:01\r\u001b[K     |█████████████████████           | 532 kB 4.9 MB/s eta 0:00:01\r\u001b[K     |█████████████████████▍          | 542 kB 4.9 MB/s eta 0:00:01\r\u001b[K     |█████████████████████▊          | 552 kB 4.9 MB/s eta 0:00:01\r\u001b[K     |██████████████████████▏         | 563 kB 4.9 MB/s eta 0:00:01\r\u001b[K     |██████████████████████▋         | 573 kB 4.9 MB/s eta 0:00:01\r\u001b[K     |███████████████████████         | 583 kB 4.9 MB/s eta 0:00:01\r\u001b[K     |███████████████████████▍        | 593 kB 4.9 MB/s eta 0:00:01\r\u001b[K     |███████████████████████▉        | 604 kB 4.9 MB/s eta 0:00:01\r\u001b[K     |████████████████████████▏       | 614 kB 4.9 MB/s eta 0:00:01\r\u001b[K     |████████████████████████▋       | 624 kB 4.9 MB/s eta 0:00:01\r\u001b[K     |█████████████████████████       | 634 kB 4.9 MB/s eta 0:00:01\r\u001b[K     |█████████████████████████▍      | 645 kB 4.9 MB/s eta 0:00:01\r\u001b[K     |█████████████████████████▉      | 655 kB 4.9 MB/s eta 0:00:01\r\u001b[K     |██████████████████████████▏     | 665 kB 4.9 MB/s eta 0:00:01\r\u001b[K     |██████████████████████████▋     | 675 kB 4.9 MB/s eta 0:00:01\r\u001b[K     |███████████████████████████     | 686 kB 4.9 MB/s eta 0:00:01\r\u001b[K     |███████████████████████████▍    | 696 kB 4.9 MB/s eta 0:00:01\r\u001b[K     |███████████████████████████▉    | 706 kB 4.9 MB/s eta 0:00:01\r\u001b[K     |████████████████████████████▎   | 716 kB 4.9 MB/s eta 0:00:01\r\u001b[K     |████████████████████████████▋   | 727 kB 4.9 MB/s eta 0:00:01\r\u001b[K     |█████████████████████████████   | 737 kB 4.9 MB/s eta 0:00:01\r\u001b[K     |█████████████████████████████▍  | 747 kB 4.9 MB/s eta 0:00:01\r\u001b[K     |█████████████████████████████▉  | 757 kB 4.9 MB/s eta 0:00:01\r\u001b[K     |██████████████████████████████▎ | 768 kB 4.9 MB/s eta 0:00:01\r\u001b[K     |██████████████████████████████▋ | 778 kB 4.9 MB/s eta 0:00:01\r\u001b[K     |███████████████████████████████ | 788 kB 4.9 MB/s eta 0:00:01\r\u001b[K     |███████████████████████████████▌| 798 kB 4.9 MB/s eta 0:00:01\r\u001b[K     |███████████████████████████████▉| 808 kB 4.9 MB/s eta 0:00:01\r\u001b[K     |████████████████████████████████| 812 kB 4.9 MB/s \n",
            "\u001b[?25hRequirement already satisfied: six in /usr/local/lib/python3.7/dist-packages (from imagehash) (1.15.0)\n",
            "Requirement already satisfied: numpy in /usr/local/lib/python3.7/dist-packages (from imagehash) (1.19.5)\n",
            "Requirement already satisfied: scipy in /usr/local/lib/python3.7/dist-packages (from imagehash) (1.4.1)\n",
            "Requirement already satisfied: pillow in /usr/local/lib/python3.7/dist-packages (from imagehash) (7.1.2)\n",
            "Requirement already satisfied: PyWavelets in /usr/local/lib/python3.7/dist-packages (from imagehash) (1.1.1)\n",
            "Building wheels for collected packages: imagehash\n",
            "  Building wheel for imagehash (setup.py) ... \u001b[?25l\u001b[?25hdone\n",
            "  Created wheel for imagehash: filename=ImageHash-4.2.1-py2.py3-none-any.whl size=295207 sha256=4031a2e2fc8a2b262fa729e3849a092c4788b621b9171f45d3b3c33a4cfe8e9a\n",
            "  Stored in directory: /root/.cache/pip/wheels/4c/d5/59/5e3e297533ddb09407769762985d134135064c6831e29a914e\n",
            "Successfully built imagehash\n",
            "Installing collected packages: imagehash\n",
            "Successfully installed imagehash-4.2.1\n"
          ],
          "name": "stdout"
        }
      ]
    },
    {
      "cell_type": "code",
      "metadata": {
        "id": "Ym8lR1rDQysl"
      },
      "source": [
        "\n",
        "#Librerias \n",
        "import numpy as np\n",
        "import pandas as pd\n",
        "import cv2  \n",
        "from google.colab.patches import cv2_imshow # for image display\n",
        "from skimage import io\n",
        "from PIL import Image \n",
        "import matplotlib.pylab as plt\n",
        "import imagehash"
      ],
      "execution_count": 14,
      "outputs": []
    },
    {
      "cell_type": "code",
      "metadata": {
        "id": "qCj9MmWhQoQy"
      },
      "source": [
        "images = ['https://i.ebayimg.com/images/g/vOUAAOSwVHle64yO/s-l1600.jpg',\n",
        "         'https://i.ebayimg.com/images/g/jN8AAOSwxMle64yY/s-l1600.jpg',\n",
        "         'https://i.ebayimg.com/images/g/3p8AAOSwk2Je64ym/s-l1600.jpg',\n",
        "         'https://i.ebayimg.com/images/g/qqYAAOSweNle64zN/s-l1600.jpg',\n",
        "         'https://i.ebayimg.com/images/g/cnkAAOSw~n9e64za/s-l1600.jpg',\n",
        "         'https://i.ebayimg.com/images/g/3p8AAOSwk2Je64ym/s-l64.jpg',\n",
        "         'https://i.ebayimg.com/images/g/qqYAAOSweNle64zN/s-l64.jpg']"
      ],
      "execution_count": 15,
      "outputs": []
    },
    {
      "cell_type": "code",
      "metadata": {
        "id": "NCjk5J_-Qvbc"
      },
      "source": [
        "df = pd.DataFrame(columns=['image','ahash','phash','dhash','whash','colorhash'])\n",
        "\n",
        "for url in images:\n",
        "    file =  Image.fromarray(io.imread(url))\n",
        "    data = {\n",
        "        'image': url,\n",
        "        'ahash': imagehash.average_hash(file),\n",
        "        'phash': imagehash.phash(file),\n",
        "        'dhash': imagehash.dhash(file),\n",
        "        'whash': imagehash.whash(file),\n",
        "        'colorhash': imagehash.colorhash(file),   \n",
        "    }\n",
        "    \n",
        "    df = df.append(data, ignore_index=True)"
      ],
      "execution_count": 24,
      "outputs": []
    },
    {
      "cell_type": "code",
      "metadata": {
        "id": "LpeUKGX4SH9F"
      },
      "source": [
        "df.head(10)"
      ],
      "execution_count": null,
      "outputs": []
    },
    {
      "cell_type": "code",
      "metadata": {
        "id": "dWwLkK05Sf5v"
      },
      "source": [
        "# iamgenes duplicadas"
      ],
      "execution_count": null,
      "outputs": []
    }
  ]
}