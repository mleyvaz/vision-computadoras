{
  "nbformat": 4,
  "nbformat_minor": 0,
  "metadata": {
    "colab": {
      "name": "ImageHashing",
      "provenance": [],
      "authorship_tag": "ABX9TyPPcyATM7nLCn+2puaHatZK",
      "include_colab_link": true
    },
    "kernelspec": {
      "name": "python3",
      "display_name": "Python 3"
    },
    "language_info": {
      "name": "python"
    }
  },
  "cells": [
    {
      "cell_type": "markdown",
      "metadata": {
        "id": "view-in-github",
        "colab_type": "text"
      },
      "source": [
        "<a href=\"https://colab.research.google.com/github/mleyvaz/vision-computadoras/blob/main/ImageHashing.ipynb\" target=\"_parent\"><img src=\"https://colab.research.google.com/assets/colab-badge.svg\" alt=\"Open In Colab\"/></a>"
      ]
    },
    {
      "cell_type": "code",
      "metadata": {
        "id": "NsuqkxtnLc-b"
      },
      "source": [
        "pip install imagehash"
      ],
      "execution_count": null,
      "outputs": []
    },
    {
      "cell_type": "code",
      "metadata": {
        "id": "MEluRGluLTEN"
      },
      "source": [
        "#Librerias \n",
        "import numpy as np\n",
        "import pandas as pd\n",
        "import cv2  \n",
        "from google.colab.patches import cv2_imshow # for image display\n",
        "from skimage import io\n",
        "from PIL import Image \n",
        "import matplotlib.pylab as plt\n",
        "import imagehash\n",
        "\n"
      ],
      "execution_count": null,
      "outputs": []
    },
    {
      "cell_type": "code",
      "metadata": {
        "id": "EHkYHNGyLtAT"
      },
      "source": [
        "img =  io.imread('https://blogtoppy777.files.wordpress.com/2008/04/3victoriaa.jpg')\n",
        "cv2_imshow(img)"
      ],
      "execution_count": null,
      "outputs": []
    },
    {
      "cell_type": "code",
      "metadata": {
        "id": "C2QejrfHL2B0"
      },
      "source": [
        "image = Image.fromarray(img)\n",
        "hash = imagehash.average_hash(image)\n",
        "print(hash)\n",
        "\n",
        "img2 =  io.imread('https://upload.wikimedia.org/wikipedia/commons/thumb/6/6b/Lake_Victoria_%28NASA%29.jpg/561px-Lake_Victoria_%28NASA%29.jpg')\n",
        "cv2_imshow(img2)\n",
        "image2 = Image.fromarray(img2)\n",
        "otherhash = imagehash.average_hash(image2)\n",
        "print(otherhash)\n",
        "print(hash - otherhash)"
      ],
      "execution_count": null,
      "outputs": []
    },
    {
      "cell_type": "code",
      "metadata": {
        "id": "YxpDRVZ0P9pn"
      },
      "source": [
        "img3 =  io.imread('https://upload.wikimedia.org/wikipedia/commons/thumb/4/44/Lake_Superior_NASA.jpg/240px-Lake_Superior_NASA.jpg')\n",
        "cv2_imshow(img3)\n",
        "image3 = Image.fromarray(img3)\n",
        "otherhash = imagehash.average_hash(image3)\n",
        "print(otherhash)\n",
        "print(hash - otherhash)"
      ],
      "execution_count": null,
      "outputs": []
    }
  ]
}