{
  "nbformat": 4,
  "nbformat_minor": 0,
  "metadata": {
    "colab": {
      "name": "Rostros.ipynb",
      "private_outputs": true,
      "provenance": [],
      "authorship_tag": "ABX9TyPhSEp18t0XNbmcVeiD8Ioa",
      "include_colab_link": true
    },
    "kernelspec": {
      "name": "python3",
      "display_name": "Python 3"
    },
    "language_info": {
      "name": "python"
    },
    "accelerator": "GPU"
  },
  "cells": [
    {
      "cell_type": "markdown",
      "metadata": {
        "id": "view-in-github",
        "colab_type": "text"
      },
      "source": [
        "<a href=\"https://colab.research.google.com/github/mleyvaz/vision-computadoras/blob/main/Rostros.ipynb\" target=\"_parent\"><img src=\"https://colab.research.google.com/assets/colab-badge.svg\" alt=\"Open In Colab\"/></a>"
      ]
    },
    {
      "cell_type": "code",
      "metadata": {
        "id": "pMGr2Lsq67r2"
      },
      "source": [
        "pip install cvlib"
      ],
      "execution_count": null,
      "outputs": []
    },
    {
      "cell_type": "code",
      "metadata": {
        "id": "Sa76euY94T94"
      },
      "source": [
        "\n",
        "import numpy as np\n",
        "import pandas as pd\n",
        "import cv2 \n",
        "from google.colab.patches import cv2_imshow # for image display\n",
        "from skimage import io\n",
        "from PIL import Image \n",
        "import matplotlib.pylab as plt\n",
        "import cvlib as cv\n",
        "\n",
        "image = io.imread(\"face2.jpg\") \n"
      ],
      "execution_count": null,
      "outputs": []
    },
    {
      "cell_type": "code",
      "metadata": {
        "id": "rcDZs75v94iR"
      },
      "source": [
        "cv2_imshow(image)"
      ],
      "execution_count": null,
      "outputs": []
    },
    {
      "cell_type": "code",
      "metadata": {
        "id": "XYPtl73F8Lr6"
      },
      "source": [
        "faces, confidences = cv.detect_face(image)\n",
        "\n",
        "print(faces)\n",
        "print(confidences)\n",
        "\n",
        "# loop through detected faces\n",
        "for face,conf in zip(faces,confidences):\n",
        "\n",
        "    (startX,startY) = face[0],face[1]\n",
        "    (endX,endY) = face[2],face[3]\n",
        "\n",
        "    # draw rectangle over face\n",
        "    cv2.rectangle(image, (startX,startY), (endX,endY), (0,255,0), 2)\n",
        "\n",
        "# display output\n",
        "        \n",
        "cv2_imshow(image)\n"
      ],
      "execution_count": null,
      "outputs": []
    }
  ]
}