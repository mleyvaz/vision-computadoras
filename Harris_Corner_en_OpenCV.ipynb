{
  "nbformat": 4,
  "nbformat_minor": 0,
  "metadata": {
    "colab": {
      "name": "Harris Corner en OpenCV",
      "provenance": [],
      "include_colab_link": true
    },
    "kernelspec": {
      "name": "python3",
      "display_name": "Python 3"
    }
  },
  "cells": [
    {
      "cell_type": "markdown",
      "metadata": {
        "id": "view-in-github",
        "colab_type": "text"
      },
      "source": [
        "<a href=\"https://colab.research.google.com/github/mleyvaz/vision-computadoras/blob/main/Harris_Corner_en_OpenCV.ipynb\" target=\"_parent\"><img src=\"https://colab.research.google.com/assets/colab-badge.svg\" alt=\"Open In Colab\"/></a>"
      ]
    },
    {
      "cell_type": "markdown",
      "metadata": {
        "id": "cCFJ0hKvYERs"
      },
      "source": [
        "Harris Corner en OpenCV"
      ]
    },
    {
      "cell_type": "code",
      "metadata": {
        "id": "N6fhkGbbYgvj"
      },
      "source": [
        "#Librerias \n",
        "import numpy as np\n",
        "import pandas as pd\n",
        "import cv2  \n",
        "from google.colab.patches import cv2_imshow # for image display\n",
        "from skimage import io\n",
        "from PIL import Image \n",
        "import matplotlib.pylab as plt"
      ],
      "execution_count": null,
      "outputs": []
    },
    {
      "cell_type": "code",
      "metadata": {
        "id": "wmiHI9QRYDT7"
      },
      "source": [
        "import cv2\n",
        "import numpy as np\n",
        "\n",
        "img =  io.imread('https://upload.wikimedia.org/wikipedia/commons/thumb/e/ee/Jewelry_box.jpg/1024px-Jewelry_box.jpg')\n",
        "gray = cv2.cvtColor(img, cv2.COLOR_BGR2GRAY)\n",
        "\n",
        "gray = np.float32(gray)\n",
        "dst = cv2.cornerHarris(gray, 2, 3, 0.04)\n",
        " \n",
        "height, width = dst.shape\n",
        "color = (0, 255, 0)\n",
        "\n",
        "for y in range(0, height):\n",
        "    for x in range(0, width):\n",
        "        if dst.item(y, x) > 0.01 * dst.max():\n",
        "            cv2.circle(img, (x, y), 3, color, cv2.FILLED, cv2.LINE_AA)\n",
        "\n",
        "cv2_imshow(img)\n"
      ],
      "execution_count": null,
      "outputs": []
    }
  ]
}